{
 "cells": [
  {
   "cell_type": "code",
   "execution_count": 64,
   "id": "b94ed73f-6866-4331-ad41-901d1ee3874f",
   "metadata": {},
   "outputs": [],
   "source": [
    "\n",
    "!pip install -q transformers datasets evaluate seqeval tqdm torch\n"
   ]
  },
  {
   "cell_type": "code",
   "execution_count": 65,
   "id": "61ae8756-cd01-4632-a58c-197ebf4f52de",
   "metadata": {},
   "outputs": [],
   "source": [
    "from transformers import AutoTokenizer, AutoModelForTokenClassification\n",
    "from datasets import load_dataset\n",
    "import evaluate, torch\n",
    "from tqdm.auto import tqdm\n",
    "\n",
    "device = torch.device(\"cuda\" if torch.cuda.is_available() else \"cpu\")\n"
   ]
  },
  {
   "cell_type": "code",
   "execution_count": 66,
   "id": "a35805ed-310e-4932-9ff1-2168556e927d",
   "metadata": {},
   "outputs": [
    {
     "name": "stderr",
     "output_type": "stream",
     "text": [
      "Some weights of the model checkpoint at dslim/bert-base-NER were not used when initializing BertForTokenClassification: ['bert.pooler.dense.bias', 'bert.pooler.dense.weight']\n",
      "- This IS expected if you are initializing BertForTokenClassification from the checkpoint of a model trained on another task or with another architecture (e.g. initializing a BertForSequenceClassification model from a BertForPreTraining model).\n",
      "- This IS NOT expected if you are initializing BertForTokenClassification from the checkpoint of a model that you expect to be exactly identical (initializing a BertForSequenceClassification model from a BertForSequenceClassification model).\n"
     ]
    }
   ],
   "source": [
    "model_ckpt = \"dslim/bert-base-NER\"\n",
    "\n",
    "tokenizer = AutoTokenizer.from_pretrained(model_ckpt)\n",
    "model = AutoModelForTokenClassification.from_pretrained(model_ckpt).to(device)\n",
    "model.eval()\n",
    "\n",
    "model_id2label = model.config.id2label       # ← model’s own label map\n"
   ]
  },
  {
   "cell_type": "code",
   "execution_count": 70,
   "id": "61ffb4e5-0f8b-4c77-9dcc-e1228cff3c79",
   "metadata": {},
   "outputs": [],
   "source": [
    "dataset = load_dataset(\"conll2003\", split=\"test\", trust_remote_code=True)\n",
    "\n",
    "dataset_label_list = dataset.features[\"ner_tags\"].feature.names\n",
    "dataset_id2label  = {i: lbl for i, lbl in enumerate(dataset_label_list)}\n"
   ]
  },
  {
   "cell_type": "code",
   "execution_count": 72,
   "id": "305bbb6b-ee90-4705-a812-7d823aceba53",
   "metadata": {},
   "outputs": [],
   "source": [
    "metric = evaluate.load(\"seqeval\")\n",
    "\n",
    "def predict_labels(tokens):\n",
    "    \"\"\"Return word‑level labels predicted by the model.\"\"\"\n",
    "    enc = tokenizer(tokens,\n",
    "                    is_split_into_words=True,\n",
    "                    return_offsets_mapping=True,\n",
    "                    return_tensors=\"pt\")\n",
    "\n",
    "    with torch.no_grad():\n",
    "        logits = model(\n",
    "            input_ids=enc[\"input_ids\"].to(device),\n",
    "            attention_mask=enc[\"attention_mask\"].to(device)\n",
    "        ).logits[0]\n",
    "\n",
    "    preds    = logits.argmax(dim=-1).tolist()\n",
    "    word_ids = enc.word_ids(batch_index=0)\n",
    "\n",
    "    labels, last_word = [], None\n",
    "    for pred_id, word_id in zip(preds, word_ids):\n",
    "        if word_id is None or word_id == last_word:\n",
    "            continue\n",
    "        labels.append(model_id2label[pred_id])     # ← use model map\n",
    "        last_word = word_id\n",
    "    return labels\n"
   ]
  },
  {
   "cell_type": "code",
   "execution_count": 74,
   "id": "dc5f2e63-15e7-4451-b24e-814878067afb",
   "metadata": {},
   "outputs": [
    {
     "data": {
      "application/vnd.jupyter.widget-view+json": {
       "model_id": "e59e755234614141a4e6648c4e4877cc",
       "version_major": 2,
       "version_minor": 0
      },
      "text/plain": [
       "Evaluating:   0%|          | 0/3453 [00:00<?, ?it/s]"
      ]
     },
     "metadata": {},
     "output_type": "display_data"
    },
    {
     "data": {
      "text/plain": [
       "{'LOC': {'precision': 0.9320505111244738,\n",
       "  'recall': 0.9292565947242206,\n",
       "  'f1': 0.9306514560192134,\n",
       "  'number': 1668},\n",
       " 'MISC': {'precision': 0.7819650067294751,\n",
       "  'recall': 0.8276353276353277,\n",
       "  'f1': 0.8041522491349481,\n",
       "  'number': 702},\n",
       " 'ORG': {'precision': 0.8879107981220657,\n",
       "  'recall': 0.9108970499698976,\n",
       "  'f1': 0.89925705794948,\n",
       "  'number': 1661},\n",
       " 'PER': {'precision': 0.9573283858998145,\n",
       "  'recall': 0.9573283858998145,\n",
       "  'f1': 0.9573283858998145,\n",
       "  'number': 1617},\n",
       " 'overall_precision': 0.9065828531517374,\n",
       " 'overall_recall': 0.9192634560906515,\n",
       " 'overall_f1': 0.9128791208791208,\n",
       " 'overall_accuracy': 0.9825347259610208}"
      ]
     },
     "execution_count": 74,
     "metadata": {},
     "output_type": "execute_result"
    }
   ],
   "source": [
    "all_preds, all_gold = [], []\n",
    "\n",
    "for ex in tqdm(dataset, desc=\"Evaluating\"):\n",
    "    tokens      = ex[\"tokens\"]\n",
    "    gold_labels = [dataset_id2label[i] for i in ex[\"ner_tags\"]]\n",
    "\n",
    "    pred_labels = predict_labels(tokens)\n",
    "\n",
    "    if len(pred_labels) != len(gold_labels):\n",
    "        raise ValueError(\"Length mismatch (alignment error)\")\n",
    "\n",
    "    all_preds.append(pred_labels)\n",
    "    all_gold.append(gold_labels)\n",
    "\n",
    "results = metric.compute(predictions=all_preds, references=all_gold)\n",
    "results\n"
   ]
  },
  {
   "cell_type": "code",
   "execution_count": 75,
   "id": "ff0d1ba8-75f6-4778-89f4-65fa5226fc36",
   "metadata": {},
   "outputs": [
    {
     "name": "stdout",
     "output_type": "stream",
     "text": [
      "LOC:\n",
      "  precision       0.9321\n",
      "  recall          0.9293\n",
      "  f1              0.9307\n",
      "  number          1668.0000\n",
      "MISC:\n",
      "  precision       0.7820\n",
      "  recall          0.8276\n",
      "  f1              0.8042\n",
      "  number          702.0000\n",
      "ORG:\n",
      "  precision       0.8879\n",
      "  recall          0.9109\n",
      "  f1              0.8993\n",
      "  number          1661.0000\n",
      "PER:\n",
      "  precision       0.9573\n",
      "  recall          0.9573\n",
      "  f1              0.9573\n",
      "  number          1617.0000\n",
      "overall_precision    0.9066\n",
      "overall_recall       0.9193\n",
      "overall_f1           0.9129\n",
      "overall_accuracy     0.9825\n"
     ]
    }
   ],
   "source": [
    "for k, v in results.items():\n",
    "    if isinstance(v, dict):\n",
    "        print(f\"{k}:\")\n",
    "        for sub_k, sub_v in v.items():\n",
    "            print(f\"  {sub_k:<15} {sub_v:.4f}\")\n",
    "    else:\n",
    "        print(f\"{k:<20} {v:.4f}\")\n"
   ]
  },
  {
   "cell_type": "code",
   "execution_count": 60,
   "id": "cfa95d6a-614c-408c-b804-d5bdc7fa4951",
   "metadata": {},
   "outputs": [
    {
     "name": "stdout",
     "output_type": "stream",
     "text": [
      "<class 'transformers.models.bert.tokenization_bert_fast.BertTokenizerFast'>\n"
     ]
    }
   ],
   "source": []
  },
  {
   "cell_type": "code",
   "execution_count": null,
   "id": "756529b4-94cf-4a88-b3cd-ce7c4ce0a39b",
   "metadata": {},
   "outputs": [],
   "source": []
  }
 ],
 "metadata": {
  "kernelspec": {
   "display_name": "Python [conda env:anaconda3] *",
   "language": "python",
   "name": "conda-env-anaconda3-py"
  },
  "language_info": {
   "codemirror_mode": {
    "name": "ipython",
    "version": 3
   },
   "file_extension": ".py",
   "mimetype": "text/x-python",
   "name": "python",
   "nbconvert_exporter": "python",
   "pygments_lexer": "ipython3",
   "version": "3.12.7"
  }
 },
 "nbformat": 4,
 "nbformat_minor": 5
}
